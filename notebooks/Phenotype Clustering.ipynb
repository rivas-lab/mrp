{
 "cells": [
  {
   "cell_type": "markdown",
   "metadata": {},
   "source": [
    "# Phenotype Clustering"
   ]
  },
  {
   "cell_type": "code",
   "execution_count": 120,
   "metadata": {
    "collapsed": false
   },
   "outputs": [
    {
     "name": "stdout",
     "output_type": "stream",
     "text": [
      "The rpy2.ipython extension is already loaded. To reload it, use:\n",
      "  %reload_ext rpy2.ipython\n"
     ]
    }
   ],
   "source": [
    "import glob\n",
    "import itertools as it \n",
    "import os\n",
    "import random\n",
    "import sys\n",
    "from textwrap import wrap\n",
    "\n",
    "from adjustText import adjust_text\n",
    "import dynamicTreeCut\n",
    "import matplotlib as mpl\n",
    "import matplotlib.gridspec as gridspec\n",
    "import matplotlib.pyplot as plt\n",
    "import numpy as np\n",
    "import pandas as pd\n",
    "pd.options.mode.chained_assignment = None  # default='warn'\n",
    "import rpy2.robjects as robjects\n",
    "from scipy.cluster.hierarchy import linkage\n",
    "from scipy.spatial.distance import pdist\n",
    "import seaborn as sns\n",
    "sns.set(rc={'font.sans-serif':'Helvetica'})\n",
    "sns.set(style='whitegrid', rc={'font.sans-serif':'Helvetica'})\n",
    "\n",
    "from IPython.display import display, HTML\n",
    "\n",
    "%matplotlib inline\n",
    "%load_ext rpy2.ipython"
   ]
  },
  {
   "cell_type": "code",
   "execution_count": 27,
   "metadata": {
    "collapsed": false
   },
   "outputs": [],
   "source": [
    "traits = pd.read_table('../../h2-estimation/data/traits.tsv', index_col=0)"
   ]
  },
  {
   "cell_type": "code",
   "execution_count": 83,
   "metadata": {
    "collapsed": true
   },
   "outputs": [],
   "source": [
    "corrs = pd.read_table('../../h2-estimation/private_output/ukb_stan/combined/vtu_opt_100_0.5.tsv.gz',\n",
    "                      index_col=0)\n",
    "corrs = corrs[(corrs['p1_category'].isnull() == False) & \n",
    "              (corrs['p2_category'].isnull() == False)]\n",
    "corrs = corrs[(corrs['p1_category'].isin(['INI', 'HC'])) & \n",
    "              (corrs['p2_category'].isin(['INI', 'HC']))]\n",
    "corrs_p = corrs.pivot(index='p1_code', columns='p2_code', values='omegacor21')\n",
    "for pheno in set(corrs_p.index) - set(corrs_p.columns):\n",
    "    corrs_p[pheno] = np.nan\n",
    "corrs_p = corrs_p.T\n",
    "for pheno in set(corrs_p.index) - set(corrs_p.columns):\n",
    "    corrs_p[pheno] = np.nan\n",
    "corrs_p = corrs_p.T\n",
    "corrs_p = corrs_p.loc[corrs_p.columns]\n",
    "for p in corrs_p.index:\n",
    "    corrs_p.loc[p, p] = 1\n",
    "corrs_p = pd.DataFrame(np.triu(corrs_p) + np.triu(corrs_p,1).T, \n",
    "                       index=corrs_p.index, columns=corrs_p.columns)\n",
    "corrs_p = corrs_p.replace(np.nan, 0)"
   ]
  },
  {
   "cell_type": "code",
   "execution_count": 331,
   "metadata": {
    "collapsed": false
   },
   "outputs": [
    {
     "name": "stdout",
     "output_type": "stream",
     "text": [
      "('..cutHeight not given, setting it to', 11.577105982379679, ' ===>  99% of the (truncated) height range in dendro.')\n",
      "..done.\n"
     ]
    }
   ],
   "source": [
    "ps = ['INI30150', 'INI3062', 'INI3063', 'HC382']\n",
    "ps += ['HC276', 'INI5263', 'INI5265']\n",
    "# ind = list(set([x for x in corrs_p.index if 'INI' in x][0:100]) | set(ps))\n",
    "ind = list(set(random.sample(corrs_p.index, 100)) | set(ps))\n",
    "tdf = corrs_p.loc[ind, ind]\n",
    "# tdf = corrs_p.iloc[0:300, 0:300]\n",
    "distances = pdist(tdf, \"euclidean\")\n",
    "link = linkage(distances, \"complete\")\n",
    "clusters = dynamicTreeCut.cutreeHybrid(link, distances, deepSplit=4, minClusterSize=4)"
   ]
  },
  {
   "cell_type": "code",
   "execution_count": 338,
   "metadata": {
    "collapsed": false
   },
   "outputs": [],
   "source": [
    "cdf = pd.DataFrame({'code':tdf.index, 'cluster':clusters['labels']})\n",
    "cdf['ps'] = cdf['code'].isin(ps)\n",
    "asthma_cluster = cdf.loc[cdf['code'] == 'HC382', 'cluster'].values[0]\n",
    "glaucoma_cluster = cdf.loc[cdf['code'] == 'HC276', 'cluster'].values[0]\n",
    "asthma_cluster_ps = list(cdf.loc[cdf['cluster'] == asthma_cluster, 'code'])\n",
    "glaucoma_cluster_ps = list(cdf.loc[cdf['cluster'] == glaucoma_cluster, 'code'])"
   ]
  },
  {
   "cell_type": "code",
   "execution_count": 346,
   "metadata": {
    "collapsed": false
   },
   "outputs": [
    {
     "data": {
      "text/html": [
       "<div>\n",
       "<style>\n",
       "    .dataframe thead tr:only-child th {\n",
       "        text-align: right;\n",
       "    }\n",
       "\n",
       "    .dataframe thead th {\n",
       "        text-align: left;\n",
       "    }\n",
       "\n",
       "    .dataframe tbody tr th {\n",
       "        vertical-align: top;\n",
       "    }\n",
       "</style>\n",
       "<table border=\"1\" class=\"dataframe\">\n",
       "  <thead>\n",
       "    <tr style=\"text-align: right;\">\n",
       "      <th></th>\n",
       "      <th>regtype</th>\n",
       "      <th>category</th>\n",
       "      <th>numcases</th>\n",
       "      <th>phenotype</th>\n",
       "    </tr>\n",
       "    <tr>\n",
       "      <th>code</th>\n",
       "      <th></th>\n",
       "      <th></th>\n",
       "      <th></th>\n",
       "      <th></th>\n",
       "    </tr>\n",
       "  </thead>\n",
       "  <tbody>\n",
       "    <tr>\n",
       "      <th>INI1003039</th>\n",
       "      <td>linear</td>\n",
       "      <td>INI</td>\n",
       "      <td>438063.0</td>\n",
       "      <td>Number_days_moderate_physical_activity</td>\n",
       "    </tr>\n",
       "    <tr>\n",
       "      <th>HC440</th>\n",
       "      <td>logistic</td>\n",
       "      <td>HC</td>\n",
       "      <td>12186.0</td>\n",
       "      <td>atrial_flutter</td>\n",
       "    </tr>\n",
       "    <tr>\n",
       "      <th>INI1588</th>\n",
       "      <td>linear</td>\n",
       "      <td>INI</td>\n",
       "      <td>243166.0</td>\n",
       "      <td>Average_weekly_beer_plus_cider_intake</td>\n",
       "    </tr>\n",
       "    <tr>\n",
       "      <th>INI1003038</th>\n",
       "      <td>linear</td>\n",
       "      <td>INI</td>\n",
       "      <td>438063.0</td>\n",
       "      <td>Number_days_walked_more_than_10_minutes</td>\n",
       "    </tr>\n",
       "    <tr>\n",
       "      <th>INI1488</th>\n",
       "      <td>linear</td>\n",
       "      <td>INI</td>\n",
       "      <td>337201.0</td>\n",
       "      <td>Tea_intake</td>\n",
       "    </tr>\n",
       "    <tr>\n",
       "      <th>INI25584</th>\n",
       "      <td>linear</td>\n",
       "      <td>INI</td>\n",
       "      <td>6302.0</td>\n",
       "      <td>Weighted-mean_L1_in_tract_inferior_longitudina...</td>\n",
       "    </tr>\n",
       "    <tr>\n",
       "      <th>HC382</th>\n",
       "      <td>logistic</td>\n",
       "      <td>HC</td>\n",
       "      <td>43626.0</td>\n",
       "      <td>asthma</td>\n",
       "    </tr>\n",
       "    <tr>\n",
       "      <th>HC91</th>\n",
       "      <td>logistic</td>\n",
       "      <td>HC</td>\n",
       "      <td>954.0</td>\n",
       "      <td>psoriatic_arthropathy</td>\n",
       "    </tr>\n",
       "    <tr>\n",
       "      <th>INI25643</th>\n",
       "      <td>linear</td>\n",
       "      <td>INI</td>\n",
       "      <td>6302.0</td>\n",
       "      <td>Weighted-mean_L3_in_tract_posterior_thalamic_r...</td>\n",
       "    </tr>\n",
       "    <tr>\n",
       "      <th>INI25607</th>\n",
       "      <td>linear</td>\n",
       "      <td>INI</td>\n",
       "      <td>6302.0</td>\n",
       "      <td>Weighted-mean_L2_in_tract_forceps_minor</td>\n",
       "    </tr>\n",
       "  </tbody>\n",
       "</table>\n",
       "</div>"
      ],
      "text/plain": [
       "             regtype category  numcases  \\\n",
       "code                                      \n",
       "INI1003039    linear      INI  438063.0   \n",
       "HC440       logistic       HC   12186.0   \n",
       "INI1588       linear      INI  243166.0   \n",
       "INI1003038    linear      INI  438063.0   \n",
       "INI1488       linear      INI  337201.0   \n",
       "INI25584      linear      INI    6302.0   \n",
       "HC382       logistic       HC   43626.0   \n",
       "HC91        logistic       HC     954.0   \n",
       "INI25643      linear      INI    6302.0   \n",
       "INI25607      linear      INI    6302.0   \n",
       "\n",
       "                                                    phenotype  \n",
       "code                                                           \n",
       "INI1003039             Number_days_moderate_physical_activity  \n",
       "HC440                                          atrial_flutter  \n",
       "INI1588                 Average_weekly_beer_plus_cider_intake  \n",
       "INI1003038            Number_days_walked_more_than_10_minutes  \n",
       "INI1488                                            Tea_intake  \n",
       "INI25584    Weighted-mean_L1_in_tract_inferior_longitudina...  \n",
       "HC382                                                  asthma  \n",
       "HC91                                    psoriatic_arthropathy  \n",
       "INI25643    Weighted-mean_L3_in_tract_posterior_thalamic_r...  \n",
       "INI25607              Weighted-mean_L2_in_tract_forceps_minor  "
      ]
     },
     "execution_count": 346,
     "metadata": {},
     "output_type": "execute_result"
    }
   ],
   "source": [
    "traits.loc[asthma_cluster_ps]"
   ]
  },
  {
   "cell_type": "code",
   "execution_count": 347,
   "metadata": {
    "collapsed": false
   },
   "outputs": [
    {
     "data": {
      "text/html": [
       "<div>\n",
       "<style>\n",
       "    .dataframe thead tr:only-child th {\n",
       "        text-align: right;\n",
       "    }\n",
       "\n",
       "    .dataframe thead th {\n",
       "        text-align: left;\n",
       "    }\n",
       "\n",
       "    .dataframe tbody tr th {\n",
       "        vertical-align: top;\n",
       "    }\n",
       "</style>\n",
       "<table border=\"1\" class=\"dataframe\">\n",
       "  <thead>\n",
       "    <tr style=\"text-align: right;\">\n",
       "      <th></th>\n",
       "      <th>regtype</th>\n",
       "      <th>category</th>\n",
       "      <th>numcases</th>\n",
       "      <th>phenotype</th>\n",
       "    </tr>\n",
       "    <tr>\n",
       "      <th>code</th>\n",
       "      <th></th>\n",
       "      <th></th>\n",
       "      <th></th>\n",
       "      <th></th>\n",
       "    </tr>\n",
       "  </thead>\n",
       "  <tbody>\n",
       "    <tr>\n",
       "      <th>INI30160</th>\n",
       "      <td>linear</td>\n",
       "      <td>INI</td>\n",
       "      <td>327479.0</td>\n",
       "      <td>Basophill_count</td>\n",
       "    </tr>\n",
       "    <tr>\n",
       "      <th>HC161</th>\n",
       "      <td>logistic</td>\n",
       "      <td>HC</td>\n",
       "      <td>984.0</td>\n",
       "      <td>prostatitis</td>\n",
       "    </tr>\n",
       "    <tr>\n",
       "      <th>INI5265</th>\n",
       "      <td>linear</td>\n",
       "      <td>INI</td>\n",
       "      <td>81412.0</td>\n",
       "      <td>Corneal_resistance_factor_(left)</td>\n",
       "    </tr>\n",
       "    <tr>\n",
       "      <th>HC146</th>\n",
       "      <td>logistic</td>\n",
       "      <td>HC</td>\n",
       "      <td>4391.0</td>\n",
       "      <td>pleural_effusion</td>\n",
       "    </tr>\n",
       "    <tr>\n",
       "      <th>HC276</th>\n",
       "      <td>logistic</td>\n",
       "      <td>HC</td>\n",
       "      <td>5863.0</td>\n",
       "      <td>glaucoma</td>\n",
       "    </tr>\n",
       "    <tr>\n",
       "      <th>INI25822</th>\n",
       "      <td>linear</td>\n",
       "      <td>INI</td>\n",
       "      <td>7058.0</td>\n",
       "      <td>Volume_of_grey_matter_in_Angular_Gyrus_(left)</td>\n",
       "    </tr>\n",
       "    <tr>\n",
       "      <th>INI5256</th>\n",
       "      <td>linear</td>\n",
       "      <td>INI</td>\n",
       "      <td>81534.0</td>\n",
       "      <td>Corneal_hysteresis_(right)</td>\n",
       "    </tr>\n",
       "    <tr>\n",
       "      <th>INI5263</th>\n",
       "      <td>linear</td>\n",
       "      <td>INI</td>\n",
       "      <td>81412.0</td>\n",
       "      <td>Intra-ocular_pressure,_Goldmann-correlated_(left)</td>\n",
       "    </tr>\n",
       "    <tr>\n",
       "      <th>INI25860</th>\n",
       "      <td>linear</td>\n",
       "      <td>INI</td>\n",
       "      <td>7058.0</td>\n",
       "      <td>Volume_of_grey_matter_in_Occipital_Fusiform_Gy...</td>\n",
       "    </tr>\n",
       "    <tr>\n",
       "      <th>INI25569</th>\n",
       "      <td>linear</td>\n",
       "      <td>INI</td>\n",
       "      <td>6302.0</td>\n",
       "      <td>Weighted-mean_L1_in_tract_acoustic_radiation_(...</td>\n",
       "    </tr>\n",
       "    <tr>\n",
       "      <th>INI1003027</th>\n",
       "      <td>linear</td>\n",
       "      <td>INI</td>\n",
       "      <td>93112.0</td>\n",
       "      <td>Standard_deviation_acceleration_average</td>\n",
       "    </tr>\n",
       "  </tbody>\n",
       "</table>\n",
       "</div>"
      ],
      "text/plain": [
       "             regtype category  numcases  \\\n",
       "code                                      \n",
       "INI30160      linear      INI  327479.0   \n",
       "HC161       logistic       HC     984.0   \n",
       "INI5265       linear      INI   81412.0   \n",
       "HC146       logistic       HC    4391.0   \n",
       "HC276       logistic       HC    5863.0   \n",
       "INI25822      linear      INI    7058.0   \n",
       "INI5256       linear      INI   81534.0   \n",
       "INI5263       linear      INI   81412.0   \n",
       "INI25860      linear      INI    7058.0   \n",
       "INI25569      linear      INI    6302.0   \n",
       "INI1003027    linear      INI   93112.0   \n",
       "\n",
       "                                                    phenotype  \n",
       "code                                                           \n",
       "INI30160                                      Basophill_count  \n",
       "HC161                                             prostatitis  \n",
       "INI5265                      Corneal_resistance_factor_(left)  \n",
       "HC146                                        pleural_effusion  \n",
       "HC276                                                glaucoma  \n",
       "INI25822        Volume_of_grey_matter_in_Angular_Gyrus_(left)  \n",
       "INI5256                            Corneal_hysteresis_(right)  \n",
       "INI5263     Intra-ocular_pressure,_Goldmann-correlated_(left)  \n",
       "INI25860    Volume_of_grey_matter_in_Occipital_Fusiform_Gy...  \n",
       "INI25569    Weighted-mean_L1_in_tract_acoustic_radiation_(...  \n",
       "INI1003027            Standard_deviation_acceleration_average  "
      ]
     },
     "execution_count": 347,
     "metadata": {},
     "output_type": "execute_result"
    }
   ],
   "source": [
    "traits.loc[glaucoma_cluster_ps]"
   ]
  },
  {
   "cell_type": "code",
   "execution_count": 348,
   "metadata": {
    "collapsed": false
   },
   "outputs": [
    {
     "data": {
      "text/html": [
       "<div>\n",
       "<style>\n",
       "    .dataframe thead tr:only-child th {\n",
       "        text-align: right;\n",
       "    }\n",
       "\n",
       "    .dataframe thead th {\n",
       "        text-align: left;\n",
       "    }\n",
       "\n",
       "    .dataframe tbody tr th {\n",
       "        vertical-align: top;\n",
       "    }\n",
       "</style>\n",
       "<table border=\"1\" class=\"dataframe\">\n",
       "  <thead>\n",
       "    <tr style=\"text-align: right;\">\n",
       "      <th>p2_code</th>\n",
       "      <th>INI30150</th>\n",
       "      <th>INI3062</th>\n",
       "      <th>INI3063</th>\n",
       "      <th>HC382</th>\n",
       "      <th>HC276</th>\n",
       "      <th>INI5263</th>\n",
       "      <th>INI5265</th>\n",
       "    </tr>\n",
       "    <tr>\n",
       "      <th>p2_code</th>\n",
       "      <th></th>\n",
       "      <th></th>\n",
       "      <th></th>\n",
       "      <th></th>\n",
       "      <th></th>\n",
       "      <th></th>\n",
       "      <th></th>\n",
       "    </tr>\n",
       "  </thead>\n",
       "  <tbody>\n",
       "    <tr>\n",
       "      <th>INI30150</th>\n",
       "      <td>1.000000</td>\n",
       "      <td>-0.064631</td>\n",
       "      <td>0.003346</td>\n",
       "      <td>0.240994</td>\n",
       "      <td>0.036112</td>\n",
       "      <td>0.074664</td>\n",
       "      <td>-0.110337</td>\n",
       "    </tr>\n",
       "    <tr>\n",
       "      <th>INI3062</th>\n",
       "      <td>-0.064631</td>\n",
       "      <td>1.000000</td>\n",
       "      <td>0.935537</td>\n",
       "      <td>-0.231214</td>\n",
       "      <td>-0.026343</td>\n",
       "      <td>-0.999561</td>\n",
       "      <td>-0.243014</td>\n",
       "    </tr>\n",
       "    <tr>\n",
       "      <th>INI3063</th>\n",
       "      <td>0.003346</td>\n",
       "      <td>0.935537</td>\n",
       "      <td>1.000000</td>\n",
       "      <td>-0.387284</td>\n",
       "      <td>-0.005179</td>\n",
       "      <td>-0.999743</td>\n",
       "      <td>-0.229794</td>\n",
       "    </tr>\n",
       "    <tr>\n",
       "      <th>HC382</th>\n",
       "      <td>0.240994</td>\n",
       "      <td>-0.231214</td>\n",
       "      <td>-0.387284</td>\n",
       "      <td>1.000000</td>\n",
       "      <td>-0.062627</td>\n",
       "      <td>-0.053234</td>\n",
       "      <td>0.084706</td>\n",
       "    </tr>\n",
       "    <tr>\n",
       "      <th>HC276</th>\n",
       "      <td>0.036112</td>\n",
       "      <td>-0.026343</td>\n",
       "      <td>-0.005179</td>\n",
       "      <td>-0.062627</td>\n",
       "      <td>1.000000</td>\n",
       "      <td>0.658688</td>\n",
       "      <td>0.268248</td>\n",
       "    </tr>\n",
       "    <tr>\n",
       "      <th>INI5263</th>\n",
       "      <td>0.074664</td>\n",
       "      <td>-0.999561</td>\n",
       "      <td>-0.999743</td>\n",
       "      <td>-0.053234</td>\n",
       "      <td>0.658688</td>\n",
       "      <td>1.000000</td>\n",
       "      <td>0.804167</td>\n",
       "    </tr>\n",
       "    <tr>\n",
       "      <th>INI5265</th>\n",
       "      <td>-0.110337</td>\n",
       "      <td>-0.243014</td>\n",
       "      <td>-0.229794</td>\n",
       "      <td>0.084706</td>\n",
       "      <td>0.268248</td>\n",
       "      <td>0.804167</td>\n",
       "      <td>1.000000</td>\n",
       "    </tr>\n",
       "  </tbody>\n",
       "</table>\n",
       "</div>"
      ],
      "text/plain": [
       "p2_code   INI30150   INI3062   INI3063     HC382     HC276   INI5263   INI5265\n",
       "p2_code                                                                       \n",
       "INI30150  1.000000 -0.064631  0.003346  0.240994  0.036112  0.074664 -0.110337\n",
       "INI3062  -0.064631  1.000000  0.935537 -0.231214 -0.026343 -0.999561 -0.243014\n",
       "INI3063   0.003346  0.935537  1.000000 -0.387284 -0.005179 -0.999743 -0.229794\n",
       "HC382     0.240994 -0.231214 -0.387284  1.000000 -0.062627 -0.053234  0.084706\n",
       "HC276     0.036112 -0.026343 -0.005179 -0.062627  1.000000  0.658688  0.268248\n",
       "INI5263   0.074664 -0.999561 -0.999743 -0.053234  0.658688  1.000000  0.804167\n",
       "INI5265  -0.110337 -0.243014 -0.229794  0.084706  0.268248  0.804167  1.000000"
      ]
     },
     "execution_count": 348,
     "metadata": {},
     "output_type": "execute_result"
    }
   ],
   "source": [
    "corrs_p.loc[ps, ps]"
   ]
  },
  {
   "cell_type": "code",
   "execution_count": 352,
   "metadata": {
    "collapsed": false
   },
   "outputs": [
    {
     "data": {
      "text/plain": [
       "'Canine Breed-specific Risks Of Frequently Diagnosed Diseases At Veterinary Teaching Hospitals'"
      ]
     },
     "execution_count": 352,
     "metadata": {},
     "output_type": "execute_result"
    }
   ],
   "source": [
    "s = 'CANINE BREED-SPECIFIC RISKS OF FREQUENTLY DIAGNOSED DISEASES AT VETERINARY TEACHING HOSPITALS'\n",
    "s = [x.lower() for x in s.split()]\n",
    "' '.join([x[0].upper() + x[1:].lower() for x in s])"
   ]
  },
  {
   "cell_type": "code",
   "execution_count": 350,
   "metadata": {
    "collapsed": false
   },
   "outputs": [
    {
     "data": {
      "text/plain": [
       "['canine',\n",
       " 'breed-specific',\n",
       " 'risks',\n",
       " 'of',\n",
       " 'frequently',\n",
       " 'diagnosed',\n",
       " 'diseases',\n",
       " 'at',\n",
       " 'veterinary',\n",
       " 'teaching',\n",
       " 'hospitals']"
      ]
     },
     "execution_count": 350,
     "metadata": {},
     "output_type": "execute_result"
    }
   ],
   "source": []
  },
  {
   "cell_type": "code",
   "execution_count": null,
   "metadata": {
    "collapsed": true
   },
   "outputs": [],
   "source": []
  },
  {
   "cell_type": "code",
   "execution_count": null,
   "metadata": {
    "collapsed": true
   },
   "outputs": [],
   "source": []
  },
  {
   "cell_type": "code",
   "execution_count": null,
   "metadata": {
    "collapsed": true
   },
   "outputs": [],
   "source": []
  },
  {
   "cell_type": "code",
   "execution_count": 334,
   "metadata": {
    "collapsed": false
   },
   "outputs": [],
   "source": [
    "colors = pd.Series(sns.color_palette(\"cubehelix\", len(set(clusters['labels']))))\n",
    "colors.index = list(set(clusters['labels']))\n",
    "ps_colors = pd.Series([(0.5, 0.5, 0.5), (1, 1, 1)], index=[0, 1])"
   ]
  },
  {
   "cell_type": "code",
   "execution_count": 336,
   "metadata": {
    "collapsed": false
   },
   "outputs": [
    {
     "data": {
      "text/plain": [
       "<seaborn.matrix.ClusterGrid at 0x7f2137ce29d0>"
      ]
     },
     "execution_count": 336,
     "metadata": {},
     "output_type": "execute_result"
    },
    {
     "data": {
      "image/png": "[encoded data removed]",
      "text/plain": [
       "<matplotlib.figure.Figure at 0x7f2139cb1ed0>"
      ]
     },
     "metadata": {},
     "output_type": "display_data"
    }
   ],
   "source": [
    "xtl = pd.Series('', index=tdf.index)\n",
    "xtl.loc[ps] = traits.loc[ps, 'phenotype']\n",
    "# sns.clustermap(tdf, col_colors=colors[cdf.cluster].values,\n",
    "#                row_colors=colors[cdf.cluster].values)\n",
    "sns.clustermap(\n",
    "    tdf,\n",
    "    figsize=(20, 20),\n",
    "    method='complete',\n",
    "    row_colors=list(ps_colors[cdf['ps'].astype(int)].values),\n",
    "    col_colors=list(colors[cdf.cluster].values),\n",
    "    xticklabels=xtl,\n",
    "    yticklabels=xtl,\n",
    ")"
   ]
  },
  {
   "cell_type": "code",
   "execution_count": null,
   "metadata": {
    "collapsed": true
   },
   "outputs": [],
   "source": []
  },
  {
   "cell_type": "code",
   "execution_count": 273,
   "metadata": {
    "collapsed": false
   },
   "outputs": [
    {
     "data": {
      "text/plain": [
       "<matplotlib.axes._subplots.AxesSubplot at 0x7f21412b48d0>"
      ]
     },
     "execution_count": 273,
     "metadata": {},
     "output_type": "execute_result"
    },
    {
     "data": {
      "image/png": "[encoded data removed]",
      "text/plain": [
       "<matplotlib.figure.Figure at 0x7f214010f690>"
      ]
     },
     "metadata": {},
     "output_type": "display_data"
    }
   ],
   "source": [
    "sns.heatmap(corrs_p.loc[cluster_ps, cluster_ps])"
   ]
  },
  {
   "cell_type": "code",
   "execution_count": 305,
   "metadata": {
    "collapsed": false
   },
   "outputs": [
    {
     "name": "stdout",
     "output_type": "stream",
     "text": [
      "564\n",
      "p2_code\n",
      "INI30150    0.000003\n",
      "INI3062     0.000002\n",
      "INI3063     0.000196\n",
      "HC382       0.000000\n",
      "Name: HC382, dtype: float64\n"
     ]
    }
   ],
   "source": [
    "adj = corrs_p.abs() ** 9\n",
    "np.fill_diagonal(adj.values, 0)\n",
    "cty = adj.sum() / adj.sum().max()\n",
    "print((adj.loc['HC382'] > 0.95).sum())\n",
    "print(adj.loc['HC382', ps])"
   ]
  },
  {
   "cell_type": "code",
   "execution_count": null,
   "metadata": {
    "collapsed": true
   },
   "outputs": [],
   "source": [
    "distances = pdist(tdf, \"euclidean\")\n",
    "link = linkage(distances, \"average\")\n",
    "clusters = dynamicTreeCut.cutreeHybrid(link, distances, deepSplit=4, minClusterSize=4)"
   ]
  },
  {
   "cell_type": "code",
   "execution_count": null,
   "metadata": {
    "collapsed": true
   },
   "outputs": [],
   "source": [
    "ps = ['INI30150', 'INI3062', 'INI3063', 'HC382']"
   ]
  },
  {
   "cell_type": "code",
   "execution_count": 86,
   "metadata": {
    "collapsed": false
   },
   "outputs": [
    {
     "name": "stdout",
     "output_type": "stream",
     "text": [
      "('Eosinophill_count', 0.24099379678000002)\n",
      "('Forced_vital_capacity_(FVC)', -0.23121362717900001)\n",
      "('Forced_expiratory_volume_in_1-second_(FEV1)', -0.38728404475999995)\n"
     ]
    }
   ],
   "source": [
    "for p in ['INI30150', 'INI3062', 'INI3063']:\n",
    "    print(traits.loc[p, 'phenotype'], corrs.loc['HC382_{}'.format(p), 'omegacor21'])"
   ]
  },
  {
   "cell_type": "code",
   "execution_count": 81,
   "metadata": {
    "collapsed": false,
    "scrolled": false
   },
   "outputs": [
    {
     "data": {
      "text/html": [
       "<div>\n",
       "<style>\n",
       "    .dataframe thead tr:only-child th {\n",
       "        text-align: right;\n",
       "    }\n",
       "\n",
       "    .dataframe thead th {\n",
       "        text-align: left;\n",
       "    }\n",
       "\n",
       "    .dataframe tbody tr th {\n",
       "        vertical-align: top;\n",
       "    }\n",
       "</style>\n",
       "<table border=\"1\" class=\"dataframe\">\n",
       "  <thead>\n",
       "    <tr style=\"text-align: right;\">\n",
       "      <th></th>\n",
       "      <th>p1</th>\n",
       "      <th>p2</th>\n",
       "      <th>omegacor21</th>\n",
       "    </tr>\n",
       "  </thead>\n",
       "  <tbody>\n",
       "    <tr>\n",
       "      <th>1022409</th>\n",
       "      <td>asthma</td>\n",
       "      <td>Number_of_children_fathered</td>\n",
       "      <td>0.980156</td>\n",
       "    </tr>\n",
       "    <tr>\n",
       "      <th>174927</th>\n",
       "      <td>asthma</td>\n",
       "      <td>trigemminal_neuralgia</td>\n",
       "      <td>0.975611</td>\n",
       "    </tr>\n",
       "    <tr>\n",
       "      <th>174937</th>\n",
       "      <td>asthma</td>\n",
       "      <td>spinal_stenosis</td>\n",
       "      <td>0.951373</td>\n",
       "    </tr>\n",
       "    <tr>\n",
       "      <th>955648</th>\n",
       "      <td>asthma</td>\n",
       "      <td>Mean_ISOVF_in_posterior_thalamic_radiation_on_...</td>\n",
       "      <td>0.950734</td>\n",
       "    </tr>\n",
       "    <tr>\n",
       "      <th>175385</th>\n",
       "      <td>asthma</td>\n",
       "      <td>Nucleated_red_blood_cell_percentage</td>\n",
       "      <td>0.939953</td>\n",
       "    </tr>\n",
       "    <tr>\n",
       "      <th>174925</th>\n",
       "      <td>asthma</td>\n",
       "      <td>urticaria</td>\n",
       "      <td>0.936796</td>\n",
       "    </tr>\n",
       "    <tr>\n",
       "      <th>174993</th>\n",
       "      <td>asthma</td>\n",
       "      <td>back_pain</td>\n",
       "      <td>0.925102</td>\n",
       "    </tr>\n",
       "    <tr>\n",
       "      <th>585402</th>\n",
       "      <td>asthma</td>\n",
       "      <td>Wheeze_or_whistling_in_the_chest_in_last_year</td>\n",
       "      <td>0.916498</td>\n",
       "    </tr>\n",
       "    <tr>\n",
       "      <th>174999</th>\n",
       "      <td>asthma</td>\n",
       "      <td>appendicitis</td>\n",
       "      <td>0.887209</td>\n",
       "    </tr>\n",
       "    <tr>\n",
       "      <th>174930</th>\n",
       "      <td>asthma</td>\n",
       "      <td>fracture_shoulder_/_scapula</td>\n",
       "      <td>0.878831</td>\n",
       "    </tr>\n",
       "  </tbody>\n",
       "</table>\n",
       "</div>"
      ],
      "text/plain": [
       "             p1                                                 p2  omegacor21\n",
       "1022409  asthma                        Number_of_children_fathered    0.980156\n",
       "174927   asthma                              trigemminal_neuralgia    0.975611\n",
       "174937   asthma                                    spinal_stenosis    0.951373\n",
       "955648   asthma  Mean_ISOVF_in_posterior_thalamic_radiation_on_...    0.950734\n",
       "175385   asthma                Nucleated_red_blood_cell_percentage    0.939953\n",
       "174925   asthma                                          urticaria    0.936796\n",
       "174993   asthma                                          back_pain    0.925102\n",
       "585402   asthma      Wheeze_or_whistling_in_the_chest_in_last_year    0.916498\n",
       "174999   asthma                                       appendicitis    0.887209\n",
       "174930   asthma                        fracture_shoulder_/_scapula    0.878831"
      ]
     },
     "execution_count": 81,
     "metadata": {},
     "output_type": "execute_result"
    }
   ],
   "source": [
    "corrs[(corrs['p1_code'] == 'HC382') | (corrs['p2_code'] == 'HC382')].sort_values(\n",
    "    by='omegacor21', ascending=False)[['p1', 'p2', 'omegacor21']].head(10)"
   ]
  },
  {
   "cell_type": "code",
   "execution_count": null,
   "metadata": {
    "collapsed": true
   },
   "outputs": [],
   "source": []
  },
  {
   "cell_type": "code",
   "execution_count": 73,
   "metadata": {
    "collapsed": false
   },
   "outputs": [],
   "source": [
    "ind = [x for x in corrs_p.index if 'INI' in x] + ['HC382']\n",
    "tdf = corrs_p.loc[ind, ind]\n",
    "c = corrs_p.corr()"
   ]
  },
  {
   "cell_type": "code",
   "execution_count": 74,
   "metadata": {
    "collapsed": true
   },
   "outputs": [],
   "source": [
    "se = c.loc['HC382'].drop('HC382')\n",
    "se = se.sort_values(ascending=False)"
   ]
  },
  {
   "cell_type": "code",
   "execution_count": 75,
   "metadata": {
    "collapsed": false
   },
   "outputs": [
    {
     "data": {
      "text/html": [
       "<div>\n",
       "<style>\n",
       "    .dataframe thead tr:only-child th {\n",
       "        text-align: right;\n",
       "    }\n",
       "\n",
       "    .dataframe thead th {\n",
       "        text-align: left;\n",
       "    }\n",
       "\n",
       "    .dataframe tbody tr th {\n",
       "        vertical-align: top;\n",
       "    }\n",
       "</style>\n",
       "<table border=\"1\" class=\"dataframe\">\n",
       "  <thead>\n",
       "    <tr style=\"text-align: right;\">\n",
       "      <th></th>\n",
       "      <th>regtype</th>\n",
       "      <th>category</th>\n",
       "      <th>numcases</th>\n",
       "      <th>phenotype</th>\n",
       "    </tr>\n",
       "    <tr>\n",
       "      <th>code</th>\n",
       "      <th></th>\n",
       "      <th></th>\n",
       "      <th></th>\n",
       "      <th></th>\n",
       "    </tr>\n",
       "  </thead>\n",
       "  <tbody>\n",
       "    <tr>\n",
       "      <th>INI30150</th>\n",
       "      <td>linear</td>\n",
       "      <td>INI</td>\n",
       "      <td>327479.0</td>\n",
       "      <td>Eosinophill_count</td>\n",
       "    </tr>\n",
       "    <tr>\n",
       "      <th>INI30210</th>\n",
       "      <td>linear</td>\n",
       "      <td>INI</td>\n",
       "      <td>327482.0</td>\n",
       "      <td>Eosinophill_percentage</td>\n",
       "    </tr>\n",
       "  </tbody>\n",
       "</table>\n",
       "</div>"
      ],
      "text/plain": [
       "         regtype category  numcases               phenotype\n",
       "code                                                       \n",
       "INI30150  linear      INI  327479.0       Eosinophill_count\n",
       "INI30210  linear      INI  327482.0  Eosinophill_percentage"
      ]
     },
     "execution_count": 75,
     "metadata": {},
     "output_type": "execute_result"
    }
   ],
   "source": [
    "traits[traits.phenotype.apply(lambda x: 'Eosino' in str(x))]"
   ]
  },
  {
   "cell_type": "code",
   "execution_count": 76,
   "metadata": {
    "collapsed": false
   },
   "outputs": [
    {
     "data": {
      "text/html": [
       "<div>\n",
       "<style>\n",
       "    .dataframe thead tr:only-child th {\n",
       "        text-align: right;\n",
       "    }\n",
       "\n",
       "    .dataframe thead th {\n",
       "        text-align: left;\n",
       "    }\n",
       "\n",
       "    .dataframe tbody tr th {\n",
       "        vertical-align: top;\n",
       "    }\n",
       "</style>\n",
       "<table border=\"1\" class=\"dataframe\">\n",
       "  <thead>\n",
       "    <tr style=\"text-align: right;\">\n",
       "      <th></th>\n",
       "      <th>regtype</th>\n",
       "      <th>category</th>\n",
       "      <th>numcases</th>\n",
       "      <th>phenotype</th>\n",
       "    </tr>\n",
       "    <tr>\n",
       "      <th>p2_code</th>\n",
       "      <th></th>\n",
       "      <th></th>\n",
       "      <th></th>\n",
       "      <th></th>\n",
       "    </tr>\n",
       "  </thead>\n",
       "  <tbody>\n",
       "    <tr>\n",
       "      <th>INI1003043</th>\n",
       "      <td>linear</td>\n",
       "      <td>INI</td>\n",
       "      <td>436473.0</td>\n",
       "      <td>Usual_walking_pace</td>\n",
       "    </tr>\n",
       "    <tr>\n",
       "      <th>INI102</th>\n",
       "      <td>linear</td>\n",
       "      <td>INI</td>\n",
       "      <td>318344.0</td>\n",
       "      <td>Pulse_rate,_automated_reading</td>\n",
       "    </tr>\n",
       "    <tr>\n",
       "      <th>INI137</th>\n",
       "      <td>linear</td>\n",
       "      <td>INI</td>\n",
       "      <td>337163.0</td>\n",
       "      <td>Number_of_treatments/medications_taken</td>\n",
       "    </tr>\n",
       "    <tr>\n",
       "      <th>HC221</th>\n",
       "      <td>logistic</td>\n",
       "      <td>HC</td>\n",
       "      <td>20440.0</td>\n",
       "      <td>diabetes</td>\n",
       "    </tr>\n",
       "    <tr>\n",
       "      <th>INI20153</th>\n",
       "      <td>linear</td>\n",
       "      <td>INI</td>\n",
       "      <td>110424.0</td>\n",
       "      <td>Forced_expiratory_volume_in_1-second_(FEV1),_p...</td>\n",
       "    </tr>\n",
       "    <tr>\n",
       "      <th>INI1498</th>\n",
       "      <td>linear</td>\n",
       "      <td>INI</td>\n",
       "      <td>337201.0</td>\n",
       "      <td>Coffee_intake</td>\n",
       "    </tr>\n",
       "    <tr>\n",
       "      <th>INI20015</th>\n",
       "      <td>linear</td>\n",
       "      <td>INI</td>\n",
       "      <td>336513.0</td>\n",
       "      <td>Sitting_height</td>\n",
       "    </tr>\n",
       "    <tr>\n",
       "      <th>INI135</th>\n",
       "      <td>linear</td>\n",
       "      <td>INI</td>\n",
       "      <td>337163.0</td>\n",
       "      <td>Number_of_self-reported_non-cancer_illnesses</td>\n",
       "    </tr>\n",
       "    <tr>\n",
       "      <th>INI21002</th>\n",
       "      <td>linear</td>\n",
       "      <td>INI</td>\n",
       "      <td>336260.0</td>\n",
       "      <td>Weight</td>\n",
       "    </tr>\n",
       "    <tr>\n",
       "      <th>INI2316</th>\n",
       "      <td>linear</td>\n",
       "      <td>INI</td>\n",
       "      <td>337198.0</td>\n",
       "      <td>Wheeze_or_whistling_in_the_chest_in_last_year</td>\n",
       "    </tr>\n",
       "    <tr>\n",
       "      <th>INI1488</th>\n",
       "      <td>linear</td>\n",
       "      <td>INI</td>\n",
       "      <td>337201.0</td>\n",
       "      <td>Tea_intake</td>\n",
       "    </tr>\n",
       "    <tr>\n",
       "      <th>HC273</th>\n",
       "      <td>logistic</td>\n",
       "      <td>HC</td>\n",
       "      <td>64234.0</td>\n",
       "      <td>essential_hypertension</td>\n",
       "    </tr>\n",
       "    <tr>\n",
       "      <th>HC215</th>\n",
       "      <td>logistic</td>\n",
       "      <td>HC</td>\n",
       "      <td>107407.0</td>\n",
       "      <td>hypertension</td>\n",
       "    </tr>\n",
       "    <tr>\n",
       "      <th>HC219</th>\n",
       "      <td>logistic</td>\n",
       "      <td>HC</td>\n",
       "      <td>19920.0</td>\n",
       "      <td>hypothyroidism/myxoedema</td>\n",
       "    </tr>\n",
       "    <tr>\n",
       "      <th>INI21001</th>\n",
       "      <td>linear</td>\n",
       "      <td>INI</td>\n",
       "      <td>336144.0</td>\n",
       "      <td>Body_mass_index_(BMI)</td>\n",
       "    </tr>\n",
       "    <tr>\n",
       "      <th>HC136</th>\n",
       "      <td>logistic</td>\n",
       "      <td>HC</td>\n",
       "      <td>2515.0</td>\n",
       "      <td>connective_tissue_disorder</td>\n",
       "    </tr>\n",
       "    <tr>\n",
       "      <th>INI20150</th>\n",
       "      <td>linear</td>\n",
       "      <td>INI</td>\n",
       "      <td>255494.0</td>\n",
       "      <td>Forced_expiratory_volume_in_1-second_(FEV1),_B...</td>\n",
       "    </tr>\n",
       "    <tr>\n",
       "      <th>INI20151</th>\n",
       "      <td>linear</td>\n",
       "      <td>INI</td>\n",
       "      <td>255494.0</td>\n",
       "      <td>Forced_vital_capacity_(FVC),_Best_measure</td>\n",
       "    </tr>\n",
       "    <tr>\n",
       "      <th>INI20127</th>\n",
       "      <td>linear</td>\n",
       "      <td>INI</td>\n",
       "      <td>274108.0</td>\n",
       "      <td>Neuroticism_score</td>\n",
       "    </tr>\n",
       "    <tr>\n",
       "      <th>HC188</th>\n",
       "      <td>logistic</td>\n",
       "      <td>HC</td>\n",
       "      <td>14940.0</td>\n",
       "      <td>cholelithiasis/gall_stones</td>\n",
       "    </tr>\n",
       "  </tbody>\n",
       "</table>\n",
       "</div>"
      ],
      "text/plain": [
       "             regtype category  numcases  \\\n",
       "p2_code                                   \n",
       "INI1003043    linear      INI  436473.0   \n",
       "INI102        linear      INI  318344.0   \n",
       "INI137        linear      INI  337163.0   \n",
       "HC221       logistic       HC   20440.0   \n",
       "INI20153      linear      INI  110424.0   \n",
       "INI1498       linear      INI  337201.0   \n",
       "INI20015      linear      INI  336513.0   \n",
       "INI135        linear      INI  337163.0   \n",
       "INI21002      linear      INI  336260.0   \n",
       "INI2316       linear      INI  337198.0   \n",
       "INI1488       linear      INI  337201.0   \n",
       "HC273       logistic       HC   64234.0   \n",
       "HC215       logistic       HC  107407.0   \n",
       "HC219       logistic       HC   19920.0   \n",
       "INI21001      linear      INI  336144.0   \n",
       "HC136       logistic       HC    2515.0   \n",
       "INI20150      linear      INI  255494.0   \n",
       "INI20151      linear      INI  255494.0   \n",
       "INI20127      linear      INI  274108.0   \n",
       "HC188       logistic       HC   14940.0   \n",
       "\n",
       "                                                    phenotype  \n",
       "p2_code                                                        \n",
       "INI1003043                                 Usual_walking_pace  \n",
       "INI102                          Pulse_rate,_automated_reading  \n",
       "INI137                 Number_of_treatments/medications_taken  \n",
       "HC221                                                diabetes  \n",
       "INI20153    Forced_expiratory_volume_in_1-second_(FEV1),_p...  \n",
       "INI1498                                         Coffee_intake  \n",
       "INI20015                                       Sitting_height  \n",
       "INI135           Number_of_self-reported_non-cancer_illnesses  \n",
       "INI21002                                               Weight  \n",
       "INI2316         Wheeze_or_whistling_in_the_chest_in_last_year  \n",
       "INI1488                                            Tea_intake  \n",
       "HC273                                  essential_hypertension  \n",
       "HC215                                            hypertension  \n",
       "HC219                                hypothyroidism/myxoedema  \n",
       "INI21001                                Body_mass_index_(BMI)  \n",
       "HC136                              connective_tissue_disorder  \n",
       "INI20150    Forced_expiratory_volume_in_1-second_(FEV1),_B...  \n",
       "INI20151            Forced_vital_capacity_(FVC),_Best_measure  \n",
       "INI20127                                    Neuroticism_score  \n",
       "HC188                              cholelithiasis/gall_stones  "
      ]
     },
     "execution_count": 76,
     "metadata": {},
     "output_type": "execute_result"
    }
   ],
   "source": [
    "traits.loc[se.head(20).index]"
   ]
  },
  {
   "cell_type": "code",
   "execution_count": 40,
   "metadata": {
    "collapsed": false
   },
   "outputs": [
    {
     "name": "stderr",
     "output_type": "stream",
     "text": [
      "/home/groups/mrivas/software/anaconda2_sherlock2/envs/h2-estimation/lib/python2.7/site-packages/matplotlib/cbook.py:136: MatplotlibDeprecationWarning: The axisbg attribute was deprecated in version 2.0. Use facecolor instead.\n",
      "  warnings.warn(message, mplDeprecation, stacklevel=1)\n"
     ]
    },
    {
     "data": {
      "text/plain": [
       "<seaborn.matrix.ClusterGrid at 0x7f2157e63610>"
      ]
     },
     "execution_count": 40,
     "metadata": {},
     "output_type": "execute_result"
    },
    {
     "data": {
      "image/png": "[encoded data removed]",
      "text/plain": [
       "<matplotlib.figure.Figure at 0x7f21582d4110>"
      ]
     },
     "metadata": {},
     "output_type": "display_data"
    }
   ],
   "source": [
    "sns.clustermap(c)"
   ]
  },
  {
   "cell_type": "code",
   "execution_count": null,
   "metadata": {
    "collapsed": true
   },
   "outputs": [],
   "source": []
  }
 ],
 "metadata": {
  "hide_input": false,
  "kernelspec": {
   "display_name": "Python 2",
   "language": "python",
   "name": "python2"
  },
  "language_info": {
   "codemirror_mode": {
    "name": "ipython",
    "version": 2
   },
   "file_extension": ".py",
   "mimetype": "text/x-python",
   "name": "python",
   "nbconvert_exporter": "python",
   "pygments_lexer": "ipython2",
   "version": "2.7.13"
  },
  "latex_envs": {
   "LaTeX_envs_menu_present": true,
   "autocomplete": true,
   "bibliofile": "biblio.bib",
   "cite_by": "apalike",
   "current_citInitial": 1,
   "eqLabelWithNumbers": true,
   "eqNumInitial": 1,
   "hotkeys": {
    "equation": "Ctrl-E",
    "itemize": "Ctrl-I"
   },
   "labels_anchors": false,
   "latex_user_defs": false,
   "report_style_numbering": false,
   "user_envs_cfg": false
  },
  "toc": {
   "colors": {
    "hover_highlight": "#DAA520",
    "navigate_num": "#000000",
    "navigate_text": "#333333",
    "running_highlight": "#FF0000",
    "selected_highlight": "#FFD700",
    "sidebar_border": "#EEEEEE",
    "wrapper_background": "#FFFFFF"
   },
   "moveMenuLeft": true,
   "nav_menu": {
    "height": "30px",
    "width": "252px"
   },
   "navigate_menu": true,
   "number_sections": true,
   "sideBar": true,
   "threshold": 4,
   "toc_cell": false,
   "toc_section_display": "block",
   "toc_window_display": false,
   "widenNotebook": false
  }
 },
 "nbformat": 4,
 "nbformat_minor": 2
}
