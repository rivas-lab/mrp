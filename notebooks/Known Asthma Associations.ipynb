{
 "cells": [
  {
   "cell_type": "markdown",
   "metadata": {},
   "source": [
    "# Known Asthma Associations\n",
    "\n",
    "I want to check whether some genes have been implicated from associations\n",
    "in [Shared genetic origin of asthma, hay fever and eczema elucidates allergic disease biology](10.1038/ng.3985).\n",
    "\n",
    "I'm using [this file](https://media-nature-com.stanford.idm.oclc.org/original/nature-assets/ng/journal/v49/n12/extref/ng.3985-S3.xlsx) with the supplementary tables."
   ]
  },
  {
   "cell_type": "code",
   "execution_count": 1,
   "metadata": {
    "collapsed": true
   },
   "outputs": [],
   "source": [
    "import pandas as pd"
   ]
  },
  {
   "cell_type": "code",
   "execution_count": 28,
   "metadata": {
    "collapsed": false
   },
   "outputs": [],
   "source": [
    "res = pd.read_excel('../data/ng.3985-S3.xlsx', sheetname='ST4', skiprows=1)\n",
    "res = res.loc[0:135]"
   ]
  },
  {
   "cell_type": "code",
   "execution_count": 29,
   "metadata": {
    "collapsed": true
   },
   "outputs": [],
   "source": [
    "genes = [\n",
    "    'IL33', \n",
    "    'GPR20',\n",
    "    'ZFAT',\n",
    "    'CSF2RB',\n",
    "    'SCMH1',\n",
    "    'PACS2',\n",
    "    'CCR3',\n",
    "    'ELN',\n",
    "]"
   ]
  },
  {
   "cell_type": "code",
   "execution_count": 30,
   "metadata": {
    "collapsed": false
   },
   "outputs": [
    {
     "name": "stdout",
     "output_type": "stream",
     "text": [
      "('IL33', 'known')\n",
      "('GPR20', 'unknown')\n",
      "('ZFAT', 'unknown')\n",
      "('CSF2RB', 'unknown')\n",
      "('SCMH1', 'unknown')\n",
      "('PACS2', 'unknown')\n",
      "('CCR3', 'unknown')\n",
      "('ELN', 'unknown')\n"
     ]
    }
   ],
   "source": [
    "for gene in genes:\n",
    "    res[gene] = res.Genecontext.apply(lambda x: gene in x)\n",
    "    if res[gene].sum() > 0:\n",
    "        print(gene, 'known')\n",
    "    else:\n",
    "        print(gene, 'unknown')"
   ]
  }
 ],
 "metadata": {
  "hide_input": false,
  "kernelspec": {
   "display_name": "Python 2",
   "language": "python",
   "name": "python2"
  },
  "language_info": {
   "codemirror_mode": {
    "name": "ipython",
    "version": 2
   },
   "file_extension": ".py",
   "mimetype": "text/x-python",
   "name": "python",
   "nbconvert_exporter": "python",
   "pygments_lexer": "ipython2",
   "version": "2.7.13"
  },
  "latex_envs": {
   "LaTeX_envs_menu_present": true,
   "autocomplete": true,
   "bibliofile": "biblio.bib",
   "cite_by": "apalike",
   "current_citInitial": 1,
   "eqLabelWithNumbers": true,
   "eqNumInitial": 1,
   "hotkeys": {
    "equation": "Ctrl-E",
    "itemize": "Ctrl-I"
   },
   "labels_anchors": false,
   "latex_user_defs": false,
   "report_style_numbering": false,
   "user_envs_cfg": false
  },
  "toc": {
   "colors": {
    "hover_highlight": "#DAA520",
    "navigate_num": "#000000",
    "navigate_text": "#333333",
    "running_highlight": "#FF0000",
    "selected_highlight": "#FFD700",
    "sidebar_border": "#EEEEEE",
    "wrapper_background": "#FFFFFF"
   },
   "moveMenuLeft": true,
   "nav_menu": {
    "height": "30px",
    "width": "252px"
   },
   "navigate_menu": true,
   "number_sections": true,
   "sideBar": true,
   "threshold": 4,
   "toc_cell": false,
   "toc_section_display": "block",
   "toc_window_display": false,
   "widenNotebook": false
  }
 },
 "nbformat": 4,
 "nbformat_minor": 2
}
