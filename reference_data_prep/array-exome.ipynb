{
 "cells": [
  {
   "cell_type": "markdown",
   "id": "british-package",
   "metadata": {},
   "source": [
    "# reference data prep for the combined dataset of array and exome"
   ]
  },
  {
   "cell_type": "code",
   "execution_count": 1,
   "id": "environmental-protest",
   "metadata": {},
   "outputs": [],
   "source": [
    "suppressWarnings(suppressPackageStartupMessages({\n",
    "    library(tidyverse)\n",
    "    library(data.table)\n",
    "}))\n"
   ]
  },
  {
   "cell_type": "code",
   "execution_count": 2,
   "id": "athletic-subcommittee",
   "metadata": {},
   "outputs": [],
   "source": [
    "source('paramters.sh')\n"
   ]
  },
  {
   "cell_type": "code",
   "execution_count": 3,
   "id": "incoming-remove",
   "metadata": {},
   "outputs": [],
   "source": [
    "in_array_f <- '../ukb_cal-consequence_wb_maf_gene_ld_indep_mpc_pli_qc.tsv.gz'\n",
    "in_exome_f <- '../ukb_exm_oqfe-consequence_wb_maf_gene_ld_indep_mpc_pli.tsv.gz'\n",
    "annotation_f <- file.path(data_dir, annotation_array_exome_f)\n",
    "\n",
    "out_f <- '../ukb_cal-exm-hg19-consequence_wb_maf_gene_ld_indep_mpc_pli.tsv.gz'\n"
   ]
  },
  {
   "cell_type": "code",
   "execution_count": 12,
   "id": "superb-territory",
   "metadata": {},
   "outputs": [],
   "source": [
    "in_array_f %>% fread(colClasses = c('ld_indep'='character')) %>%\n",
    "rename_with(function(x){str_replace(x, '#', '')}, starts_with(\"#\")) -> in_array_df\n",
    "\n",
    "in_exome_f %>% fread(colClasses = c('ld_indep'='character')) %>%\n",
    "rename_with(function(x){str_replace(x, '#', '')}, starts_with(\"#\")) -> in_exome_df\n"
   ]
  },
  {
   "cell_type": "code",
   "execution_count": 5,
   "id": "effective-airfare",
   "metadata": {},
   "outputs": [],
   "source": [
    "annotation_f %>% fread(select=c(\n",
    "    '#CHROM', 'POS', 'ID', 'REF', 'ALT',\n",
    "    'geno_data_source',\n",
    "    'CHROM_hg38', 'POS_hg38', 'REF_hg38', 'ALT_hg38'\n",
    ")) %>%\n",
    "rename_with(function(x){str_replace(x, '#', '')}, starts_with(\"#\")) -> annotation_df\n"
   ]
  },
  {
   "cell_type": "code",
   "execution_count": 17,
   "id": "capable-prison",
   "metadata": {},
   "outputs": [],
   "source": [
    "annotation_df %>%\n",
    "filter(geno_data_source == 'exome200k') %>%\n",
    "mutate(V = paste(CHROM_hg38, POS_hg38, REF_hg38, ALT_hg38, sep=':')) %>%\n",
    "select(V, CHROM, POS, REF, ALT) %>%\n",
    "inner_join(\n",
    "    in_exome_df,\n",
    "    by='V'\n",
    ") %>%\n",
    "mutate(\n",
    "    V = paste(CHROM, POS, REF, ALT, sep=':'),\n",
    "    # in the array-exome combined dataset, \n",
    "    # we focus on the LD indep variants in array\n",
    "    ld_indep = 'False'\n",
    ") %>%\n",
    "select(-CHROM, -POS, -REF, -ALT) -> exome_hg19_df\n"
   ]
  },
  {
   "cell_type": "code",
   "execution_count": 22,
   "id": "detailed-prediction",
   "metadata": {},
   "outputs": [],
   "source": [
    "annotation_df %>%\n",
    "mutate(V = paste(CHROM, POS, REF, ALT, sep=':'), sort_order = 1:n()) %>%\n",
    "select(sort_order, V) %>%\n",
    "inner_join(bind_rows(exome_hg19_df, in_array_df), by='V') %>%\n",
    "arrange(sort_order) %>%\n",
    "select(-sort_order) -> combined_df\n"
   ]
  },
  {
   "cell_type": "code",
   "execution_count": 25,
   "id": "diagnostic-international",
   "metadata": {},
   "outputs": [
    {
     "name": "stdout",
     "output_type": "stream",
     "text": [
      "[1] 651935      8\n",
      "[1] 17582164        8\n",
      "[1] 18118191        8\n"
     ]
    }
   ],
   "source": [
    "in_array_df %>% dim %>% print\n",
    "in_exome_df %>% dim %>% print\n",
    "combined_df %>% dim %>% print"
   ]
  },
  {
   "cell_type": "code",
   "execution_count": 26,
   "id": "neural-drinking",
   "metadata": {},
   "outputs": [
    {
     "data": {
      "text/html": [
       "18234099"
      ],
      "text/latex": [
       "18234099"
      ],
      "text/markdown": [
       "18234099"
      ],
      "text/plain": [
       "[1] 18234099"
      ]
     },
     "metadata": {},
     "output_type": "display_data"
    }
   ],
   "source": [
    "651935 + 17582164"
   ]
  },
  {
   "cell_type": "code",
   "execution_count": 29,
   "id": "swiss-feature",
   "metadata": {},
   "outputs": [],
   "source": [
    "combined_df %>%\n",
    "fwrite(str_replace(out_f, '.gz$', ''), sep='\\t', na = \"NA\", quote=F)\n"
   ]
  },
  {
   "cell_type": "code",
   "execution_count": 30,
   "id": "built-string",
   "metadata": {},
   "outputs": [
    {
     "data": {
      "text/html": [
       "'bgzip -l9 ../ukb_cal-exm-hg19-consequence_wb_maf_gene_ld_indep_mpc_pli.tsv'"
      ],
      "text/latex": [
       "'bgzip -l9 ../ukb\\_cal-exm-hg19-consequence\\_wb\\_maf\\_gene\\_ld\\_indep\\_mpc\\_pli.tsv'"
      ],
      "text/markdown": [
       "'bgzip -l9 ../ukb_cal-exm-hg19-consequence_wb_maf_gene_ld_indep_mpc_pli.tsv'"
      ],
      "text/plain": [
       "[1] \"bgzip -l9 ../ukb_cal-exm-hg19-consequence_wb_maf_gene_ld_indep_mpc_pli.tsv\""
      ]
     },
     "metadata": {},
     "output_type": "display_data"
    }
   ],
   "source": [
    "sprintf('bgzip -l9 %s', str_replace(out_f, '.gz$', ''))\n"
   ]
  },
  {
   "cell_type": "code",
   "execution_count": null,
   "id": "early-letters",
   "metadata": {},
   "outputs": [],
   "source": []
  }
 ],
 "metadata": {
  "kernelspec": {
   "display_name": "R",
   "language": "R",
   "name": "ir"
  },
  "language_info": {
   "codemirror_mode": "r",
   "file_extension": ".r",
   "mimetype": "text/x-r-source",
   "name": "R",
   "pygments_lexer": "r",
   "version": "3.6.2"
  }
 },
 "nbformat": 4,
 "nbformat_minor": 5
}
