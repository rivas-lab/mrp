{
 "cells": [
  {
   "cell_type": "markdown",
   "id": "excessive-technique",
   "metadata": {},
   "source": [
    "# reference data for the \"array\" dataset\n",
    "\n",
    "We further consider \"FILTER\" column in the variant annotation file and clean-up the reference file, `ukb_cal-consequence_wb_maf_gene_ld_indep_mpc_pli.tsv.gz` and save the new file as `ukb_cal-consequence_wb_maf_gene_ld_indep_mpc_pli_qc.tsv.gz`"
   ]
  },
  {
   "cell_type": "code",
   "execution_count": 1,
   "id": "devoted-american",
   "metadata": {},
   "outputs": [],
   "source": [
    "suppressWarnings(suppressPackageStartupMessages({\n",
    "    library(tidyverse)\n",
    "    library(data.table)\n",
    "}))\n"
   ]
  },
  {
   "cell_type": "code",
   "execution_count": 2,
   "id": "nutritional-possible",
   "metadata": {},
   "outputs": [],
   "source": [
    "source('paramters.sh')"
   ]
  },
  {
   "cell_type": "code",
   "execution_count": 3,
   "id": "upset-rebound",
   "metadata": {},
   "outputs": [],
   "source": [
    "in_f <- '../ukb_cal-consequence_wb_maf_gene_ld_indep_mpc_pli.tsv.gz'\n",
    "annotation_f <- file.path(data_dir, annotation_array_f)\n",
    "out_f <- '../ukb_cal-consequence_wb_maf_gene_ld_indep_mpc_pli_qc.tsv.gz'\n"
   ]
  },
  {
   "cell_type": "code",
   "execution_count": 4,
   "id": "beginning-motel",
   "metadata": {},
   "outputs": [],
   "source": [
    "in_f %>% \n",
    "fread(colClasses = c('ld_indep'='character')) %>%\n",
    "rename_with(function(x){str_replace(x, '#', '')}, starts_with(\"#\")) -> in_df\n",
    "\n",
    "annotation_f %>% \n",
    "fread() %>%\n",
    "rename_with(function(x){str_replace(x, '#', '')}, starts_with(\"#\")) -> annotation_df\n"
   ]
  },
  {
   "cell_type": "code",
   "execution_count": 5,
   "id": "least-reconstruction",
   "metadata": {},
   "outputs": [],
   "source": [
    "in_df %>%\n",
    "left_join(\n",
    "    annotation_df %>%\n",
    "    mutate(V = paste(CHROM, POS, REF, ALT, sep=':')) %>%\n",
    "    select(V, FILTER),\n",
    "    by='V'\n",
    ") -> merged_df\n"
   ]
  },
  {
   "cell_type": "code",
   "execution_count": 6,
   "id": "active-brighton",
   "metadata": {},
   "outputs": [
    {
     "data": {
      "text/html": [
       "<table class=\"dataframe\">\n",
       "<caption>A data.table: 14 × 2</caption>\n",
       "<thead>\n",
       "\t<tr><th></th><th scope=col>FILTER</th><th scope=col>n</th></tr>\n",
       "\t<tr><th></th><th scope=col>&lt;chr&gt;</th><th scope=col>&lt;int&gt;</th></tr>\n",
       "</thead>\n",
       "<tbody>\n",
       "\t<tr><th scope=row>1</th><td>.                         </td><td>651935</td></tr>\n",
       "\t<tr><th scope=row>2</th><td>gnomad_af                 </td><td>   164</td></tr>\n",
       "\t<tr><th scope=row>3</th><td>hwe                       </td><td> 33792</td></tr>\n",
       "\t<tr><th scope=row>4</th><td>hwe;gnomad_af             </td><td>     3</td></tr>\n",
       "\t<tr><th scope=row>5</th><td>hwe;mgi                   </td><td>     3</td></tr>\n",
       "\t<tr><th scope=row>6</th><td>mcpi                      </td><td>    10</td></tr>\n",
       "\t<tr><th scope=row>7</th><td>mgi                       </td><td>    41</td></tr>\n",
       "\t<tr><th scope=row>8</th><td>missingness               </td><td> 75499</td></tr>\n",
       "\t<tr><th scope=row>9</th><td>missingness;gnomad_af     </td><td>    40</td></tr>\n",
       "\t<tr><th scope=row>10</th><td>missingness;hwe           </td><td> 22758</td></tr>\n",
       "\t<tr><th scope=row>11</th><td>missingness;hwe;gnomad_af </td><td>     6</td></tr>\n",
       "\t<tr><th scope=row>12</th><td>missingness;hwe;mgi       </td><td>     2</td></tr>\n",
       "\t<tr><th scope=row>13</th><td>missingness;mcpi          </td><td>     1</td></tr>\n",
       "\t<tr><th scope=row>14</th><td>missingness;mcpi;gnomad_af</td><td>     2</td></tr>\n",
       "</tbody>\n",
       "</table>\n"
      ],
      "text/latex": [
       "A data.table: 14 × 2\n",
       "\\begin{tabular}{r|ll}\n",
       "  & FILTER & n\\\\\n",
       "  & <chr> & <int>\\\\\n",
       "\\hline\n",
       "\t1 & .                          & 651935\\\\\n",
       "\t2 & gnomad\\_af                  &    164\\\\\n",
       "\t3 & hwe                        &  33792\\\\\n",
       "\t4 & hwe;gnomad\\_af              &      3\\\\\n",
       "\t5 & hwe;mgi                    &      3\\\\\n",
       "\t6 & mcpi                       &     10\\\\\n",
       "\t7 & mgi                        &     41\\\\\n",
       "\t8 & missingness                &  75499\\\\\n",
       "\t9 & missingness;gnomad\\_af      &     40\\\\\n",
       "\t10 & missingness;hwe            &  22758\\\\\n",
       "\t11 & missingness;hwe;gnomad\\_af  &      6\\\\\n",
       "\t12 & missingness;hwe;mgi        &      2\\\\\n",
       "\t13 & missingness;mcpi           &      1\\\\\n",
       "\t14 & missingness;mcpi;gnomad\\_af &      2\\\\\n",
       "\\end{tabular}\n"
      ],
      "text/markdown": [
       "\n",
       "A data.table: 14 × 2\n",
       "\n",
       "| <!--/--> | FILTER &lt;chr&gt; | n &lt;int&gt; |\n",
       "|---|---|---|\n",
       "| 1 | .                          | 651935 |\n",
       "| 2 | gnomad_af                  |    164 |\n",
       "| 3 | hwe                        |  33792 |\n",
       "| 4 | hwe;gnomad_af              |      3 |\n",
       "| 5 | hwe;mgi                    |      3 |\n",
       "| 6 | mcpi                       |     10 |\n",
       "| 7 | mgi                        |     41 |\n",
       "| 8 | missingness                |  75499 |\n",
       "| 9 | missingness;gnomad_af      |     40 |\n",
       "| 10 | missingness;hwe            |  22758 |\n",
       "| 11 | missingness;hwe;gnomad_af  |      6 |\n",
       "| 12 | missingness;hwe;mgi        |      2 |\n",
       "| 13 | missingness;mcpi           |      1 |\n",
       "| 14 | missingness;mcpi;gnomad_af |      2 |\n",
       "\n"
      ],
      "text/plain": [
       "   FILTER                     n     \n",
       "1  .                          651935\n",
       "2  gnomad_af                     164\n",
       "3  hwe                         33792\n",
       "4  hwe;gnomad_af                   3\n",
       "5  hwe;mgi                         3\n",
       "6  mcpi                           10\n",
       "7  mgi                            41\n",
       "8  missingness                 75499\n",
       "9  missingness;gnomad_af          40\n",
       "10 missingness;hwe             22758\n",
       "11 missingness;hwe;gnomad_af       6\n",
       "12 missingness;hwe;mgi             2\n",
       "13 missingness;mcpi                1\n",
       "14 missingness;mcpi;gnomad_af      2"
      ]
     },
     "metadata": {},
     "output_type": "display_data"
    }
   ],
   "source": [
    "merged_df %>% count(FILTER)\n"
   ]
  },
  {
   "cell_type": "code",
   "execution_count": 7,
   "id": "religious-listening",
   "metadata": {},
   "outputs": [],
   "source": [
    "merged_df %>% \n",
    "filter(FILTER == '.') %>%\n",
    "select(-FILTER) %>%\n",
    "fwrite(str_replace(out_f, '.gz$', ''), sep='\\t', na = \"NA\", quote=F)\n"
   ]
  },
  {
   "cell_type": "code",
   "execution_count": 8,
   "id": "grateful-cattle",
   "metadata": {},
   "outputs": [
    {
     "data": {
      "text/html": [
       "'bgzip -l9 ../ukb_cal-consequence_wb_maf_gene_ld_indep_mpc_pli_qc.tsv'"
      ],
      "text/latex": [
       "'bgzip -l9 ../ukb\\_cal-consequence\\_wb\\_maf\\_gene\\_ld\\_indep\\_mpc\\_pli\\_qc.tsv'"
      ],
      "text/markdown": [
       "'bgzip -l9 ../ukb_cal-consequence_wb_maf_gene_ld_indep_mpc_pli_qc.tsv'"
      ],
      "text/plain": [
       "[1] \"bgzip -l9 ../ukb_cal-consequence_wb_maf_gene_ld_indep_mpc_pli_qc.tsv\""
      ]
     },
     "metadata": {},
     "output_type": "display_data"
    }
   ],
   "source": [
    "sprintf('bgzip -l9 %s', str_replace(out_f, '.gz$', ''))\n"
   ]
  },
  {
   "cell_type": "code",
   "execution_count": null,
   "id": "scenic-latex",
   "metadata": {},
   "outputs": [],
   "source": []
  }
 ],
 "metadata": {
  "kernelspec": {
   "display_name": "R",
   "language": "R",
   "name": "ir"
  },
  "language_info": {
   "codemirror_mode": "r",
   "file_extension": ".r",
   "mimetype": "text/x-r-source",
   "name": "R",
   "pygments_lexer": "r",
   "version": "3.6.2"
  }
 },
 "nbformat": 4,
 "nbformat_minor": 5
}
