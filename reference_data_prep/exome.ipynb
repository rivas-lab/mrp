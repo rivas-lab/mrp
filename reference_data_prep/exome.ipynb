{
 "cells": [
  {
   "cell_type": "markdown",
   "id": "stable-thread",
   "metadata": {},
   "source": [
    "# inspection of the reference data for the \"exome\" dataset"
   ]
  },
  {
   "cell_type": "code",
   "execution_count": 1,
   "id": "earlier-insulation",
   "metadata": {},
   "outputs": [],
   "source": [
    "suppressWarnings(suppressPackageStartupMessages({\n",
    "    library(tidyverse)\n",
    "    library(data.table)\n",
    "}))\n"
   ]
  },
  {
   "cell_type": "code",
   "execution_count": 15,
   "id": "compressed-artwork",
   "metadata": {},
   "outputs": [],
   "source": [
    "source('paramters.sh')"
   ]
  },
  {
   "cell_type": "code",
   "execution_count": 2,
   "id": "suitable-colonial",
   "metadata": {},
   "outputs": [],
   "source": [
    "in_f <- '../ukb_exm_oqfe-consequence_wb_maf_gene_ld_indep_mpc_pli.tsv.gz'\n",
    "annotation_f <- file.path(data_dir, annotation_exome_f)\n",
    "\n"
   ]
  },
  {
   "cell_type": "code",
   "execution_count": 3,
   "id": "sound-portal",
   "metadata": {},
   "outputs": [],
   "source": [
    "in_f %>% \n",
    "fread() %>%\n",
    "rename_with(function(x){str_replace(x, '#', '')}, starts_with(\"#\")) -> in_df\n"
   ]
  },
  {
   "cell_type": "code",
   "execution_count": 4,
   "id": "educational-treasurer",
   "metadata": {},
   "outputs": [],
   "source": [
    "annotation_f %>% \n",
    "fread() %>%\n",
    "rename_with(function(x){str_replace(x, '#', '')}, starts_with(\"#\")) -> annotation_df\n"
   ]
  },
  {
   "cell_type": "code",
   "execution_count": 11,
   "id": "identified-maker",
   "metadata": {},
   "outputs": [],
   "source": [
    "in_df %>%\n",
    "left_join(\n",
    "    annotation_df %>%\n",
    "    mutate(V = paste(CHROM, POS, REF, ALT, sep=':')) %>%\n",
    "    select(V, FILTER),\n",
    "    by='V'\n",
    ") -> merged_df\n"
   ]
  },
  {
   "cell_type": "code",
   "execution_count": 14,
   "id": "tired-mississippi",
   "metadata": {},
   "outputs": [
    {
     "data": {
      "text/html": [
       "<table class=\"dataframe\">\n",
       "<caption>A data.table: 3 × 2</caption>\n",
       "<thead>\n",
       "\t<tr><th></th><th scope=col>FILTER</th><th scope=col>n</th></tr>\n",
       "\t<tr><th></th><th scope=col>&lt;chr&gt;</th><th scope=col>&lt;int&gt;</th></tr>\n",
       "</thead>\n",
       "<tbody>\n",
       "\t<tr><th scope=row>1</th><td>.                   </td><td>17582030</td></tr>\n",
       "\t<tr><th scope=row>2</th><td>sample_miss;WB_HWE_p</td><td>       8</td></tr>\n",
       "\t<tr><th scope=row>3</th><td>WB_HWE_p            </td><td>     126</td></tr>\n",
       "</tbody>\n",
       "</table>\n"
      ],
      "text/latex": [
       "A data.table: 3 × 2\n",
       "\\begin{tabular}{r|ll}\n",
       "  & FILTER & n\\\\\n",
       "  & <chr> & <int>\\\\\n",
       "\\hline\n",
       "\t1 & .                    & 17582030\\\\\n",
       "\t2 & sample\\_miss;WB\\_HWE\\_p &        8\\\\\n",
       "\t3 & WB\\_HWE\\_p             &      126\\\\\n",
       "\\end{tabular}\n"
      ],
      "text/markdown": [
       "\n",
       "A data.table: 3 × 2\n",
       "\n",
       "| <!--/--> | FILTER &lt;chr&gt; | n &lt;int&gt; |\n",
       "|---|---|---|\n",
       "| 1 | .                    | 17582030 |\n",
       "| 2 | sample_miss;WB_HWE_p |        8 |\n",
       "| 3 | WB_HWE_p             |      126 |\n",
       "\n"
      ],
      "text/plain": [
       "  FILTER               n       \n",
       "1 .                    17582030\n",
       "2 sample_miss;WB_HWE_p        8\n",
       "3 WB_HWE_p                  126"
      ]
     },
     "metadata": {},
     "output_type": "display_data"
    }
   ],
   "source": [
    "merged_df %>% count(FILTER)"
   ]
  },
  {
   "cell_type": "code",
   "execution_count": null,
   "id": "encouraging-elements",
   "metadata": {},
   "outputs": [],
   "source": []
  }
 ],
 "metadata": {
  "kernelspec": {
   "display_name": "R",
   "language": "R",
   "name": "ir"
  },
  "language_info": {
   "codemirror_mode": "r",
   "file_extension": ".r",
   "mimetype": "text/x-r-source",
   "name": "R",
   "pygments_lexer": "r",
   "version": "3.6.2"
  }
 },
 "nbformat": 4,
 "nbformat_minor": 5
}
